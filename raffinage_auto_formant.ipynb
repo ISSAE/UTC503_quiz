{
  "nbformat": 4,
  "nbformat_minor": 0,
  "metadata": {
    "colab": {
      "name": "raffinage_auto_formant.ipynb",
      "provenance": [],
      "collapsed_sections": [],
      "authorship_tag": "ABX9TyN4wHa7LJ5FJUCW93LZkyo+",
      "include_colab_link": true
    },
    "kernelspec": {
      "name": "python3",
      "display_name": "Python 3"
    }
  },
  "cells": [
    {
      "cell_type": "markdown",
      "metadata": {
        "id": "view-in-github",
        "colab_type": "text"
      },
      "source": [
        "<a href=\"https://colab.research.google.com/github/ISSAE/UTC503_quiz/blob/main/raffinage_auto_formant.ipynb\" target=\"_parent\"><img src=\"https://colab.research.google.com/assets/colab-badge.svg\" alt=\"Open In Colab\"/></a>"
      ]
    },
    {
      "cell_type": "markdown",
      "metadata": {
        "id": "xaBByP_1XzgJ"
      },
      "source": [
        "Rappel:\n",
        "\n",
        "Un programme est un enchaînement de différentes opérations et calculs plus ou moins complexes. La difficulté pour élaborer un tel programme est généralement proportionnelle à la taille du problème.\n",
        "\n",
        "On part d'une description de la résolution du problème, très abstraite et à chaque étape, on la raffine en utilisant :\n",
        "\n",
        "* Les structures de contrôle pour décrire les **choix** et les **répétitions**.\n",
        "\n",
        "* les structures de composition pour élaborer un calcul complexe à partir de calculs plus élémentaires (composition fonctionnelle et séquentielle) jusqu'à obtenir quelque chose écrit dans un langage proche de celui de la machine.\n",
        "\n",
        "Il ne restera alors qu'à traduire dans le langage de programmation utilisé."
      ]
    },
    {
      "cell_type": "markdown",
      "metadata": {
        "id": "oVN9UOrlYVII"
      },
      "source": [
        "Le raffinage consiste en ces trois étapes où se mêlent rigueur et savoir-faire :\n",
        "\n",
        "* Diviser le problème à résoudre en sous-problèmes. C'est une partie importante qui conditionne le reste et qui, malheureusement, n'est basée que sur l'expérience.\n",
        "\n",
        "* Résoudre chacun des sous-problèmes soit en appliquant à nouveau la première étape, soit en résolvant directement le sous-problème qui est un problème simple et connu.\n",
        "\n",
        "* Combiner les résultats des sous-problèmes. C'est la partie la plus rigoureuse dans laquelle on doit faire attention à ce que donnent les sous-résultats et à ce qu'il est nécessaire de faire pour obtenir le résultat final"
      ]
    },
    {
      "cell_type": "markdown",
      "metadata": {
        "id": "xzzF0Y1uYzcQ"
      },
      "source": [
        "# Le problème demandé: Permuter 2 variables (A et B )\n",
        "\n",
        "# Les opereation de base (notre machine)\n",
        "Notre machine ne connait que trois opérations de base, l'incrementation (+1) ou la décrementation (-1) et la mise a zero et pas d'opération d'affectation directe!\n",
        "\n",
        "1. inc\n",
        "2. dec\n",
        "3. raz"
      ]
    },
    {
      "cell_type": "markdown",
      "metadata": {
        "id": "W5SDi81lZ6IY"
      },
      "source": [
        "R0: Idée Générale, utiliser une variable C intermédiaire\n",
        "> R01 Recopier A dans C;\n",
        "\n",
        "> R02 Recopier B dans A;\n",
        "\n",
        "> R03 Recopier C dans B;"
      ]
    },
    {
      "cell_type": "markdown",
      "metadata": {
        "id": "LSPGRv7wanTx"
      },
      "source": [
        "On sáppercois que a besoin de 3 raffinages, mais qui se ressemble et qui pourrait être induit par le raffinage générique\n",
        "\n",
        "**R0i Recopier variable X Dans Variable Y**"
      ]
    },
    {
      "cell_type": "markdown",
      "metadata": {
        "id": "g16dwvYUbEbB"
      },
      "source": [
        "On détaille un peu plus les actions qui devront être décomposées vue le peu d'opérations élémentaires au niveau de l'affectation"
      ]
    },
    {
      "cell_type": "code",
      "metadata": {
        "id": "LgbEgu3ebWsB"
      },
      "source": [
        "# Recopier X dans Y\n",
        "def Recopier(X,Y):\n",
        "  Remise à zero de Y;\n",
        "\n",
        "  while X > 0:\n",
        "    Incrémenter Y de 1;\n",
        "    Décrémenter X de 1;"
      ],
      "execution_count": null,
      "outputs": []
    },
    {
      "cell_type": "markdown",
      "metadata": {
        "id": "LjtDwNQcbysR"
      },
      "source": [
        "La répétiion while (tanque) de la ligne 5: Tanque X est non nul on réaliser les lignes 6 et 7"
      ]
    },
    {
      "cell_type": "markdown",
      "metadata": {
        "id": "paG9supOcN8C"
      },
      "source": [
        "Reprenons le raffinage R0\n",
        "R0: Echanger A et B\n",
        "> R01 Recopier(A,C)\n",
        "\n",
        "> R02 Recopier(B,A)\n",
        "\n",
        "> R03 Recopier(C,B)"
      ]
    },
    {
      "cell_type": "code",
      "metadata": {
        "id": "2NfOXwuoXF_6"
      },
      "source": [
        "#C'est à dire en pseudo Python\n",
        "def Echanger(A,B):\n",
        "  Recopier(A,C)\n",
        "  Recopier(B,A)\n",
        "  Recopier(C,B)"
      ],
      "execution_count": null,
      "outputs": []
    },
    {
      "cell_type": "markdown",
      "metadata": {
        "id": "cs_pUTZ8c4eq"
      },
      "source": [
        "# A vous maintenant\n",
        "Proposer un algorithme pour le problème suivant\n",
        "\n",
        "**Objectif :** Écrire un programme qui lit un certain nombre d'entiers et détermine si chacun d'eux est pair, et qui, dans le cas contraire, détermine si l'entier est premier. (L'utilisateur rentrera les nombres un à un et tapera 0 pour terminer sa saisie.)"
      ]
    }
  ]
}